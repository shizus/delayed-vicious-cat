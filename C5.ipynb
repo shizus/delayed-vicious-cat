{
 "cells": [
  {
   "cell_type": "markdown",
   "metadata": {},
   "source": [
    "# C5. Comprima todos los textos de las reviews obteniendo un ratio de compresión mejor que 2.\n",
    "\n",
    "    ¿De cuanto es el ratio de compresión?\n",
    "    ¿Cuánto tarda en comprimir y descomprimir (por separado)? (use el magic %%timeit)\n",
    "    ¿Cuánto ocupa cada carácter en promedio una vez comprimido?\n",
    "    Si tomamos la entropía base dos para los caracteres ¿cuánto da? ¿cuantos bytes por caracter son esos?\n",
    "    Si utilizaramos un compresor aritmético por caracter, aproximadamente ¿cuál sería el ratio de compresión en el caso más optimista?\n",
    "    ¿Cúal algoritmo de compresión de los dos sería mejor?\n",
    "\n"
   ]
  },
  {
   "cell_type": "markdown",
   "metadata": {},
   "source": [
    "import pandas as pd\n",
    "import numpy as np\n",
    "\n",
    "reviews = pd.read_csv('Dataset/review.csv', usecols=['text'])"
   ]
  },
  {
   "cell_type": "code",
   "execution_count": 4,
   "metadata": {},
   "outputs": [
    {
     "name": "stdout",
     "output_type": "stream",
     "text": [
      "<class 'pandas.core.frame.DataFrame'>\n",
      "RangeIndex: 3838105 entries, 0 to 3838104\n",
      "Data columns (total 1 columns):\n",
      " #   Column  Dtype \n",
      "---  ------  ----- \n",
      " 0   text    object\n",
      "dtypes: object(1)\n",
      "memory usage: 29.3+ MB\n"
     ]
    }
   ],
   "source": [
    "reviews.info()"
   ]
  },
  {
   "cell_type": "code",
   "execution_count": 6,
   "metadata": {},
   "outputs": [],
   "source": [
    "df = reviews.sample(1000)"
   ]
  },
  {
   "cell_type": "code",
   "execution_count": 10,
   "metadata": {},
   "outputs": [
    {
     "name": "stdout",
     "output_type": "stream",
     "text": [
      "41.9 ms ± 2 ms per loop (mean ± std. dev. of 7 runs, 10 loops each)\n"
     ]
    }
   ],
   "source": [
    "import zstandard as zstd\n",
    "cctx = zstd.ZstdCompressor(level=22)\n",
    "\n",
    "%timeit df['compressed_text'] = df['text'].transform(lambda x: cctx.compress(x.encode()))"
   ]
  },
  {
   "cell_type": "code",
   "execution_count": 11,
   "metadata": {},
   "outputs": [
    {
     "name": "stdout",
     "output_type": "stream",
     "text": [
      "2.66 ms ± 46.6 µs per loop (mean ± std. dev. of 7 runs, 100 loops each)\n"
     ]
    }
   ],
   "source": [
    "dctx = zstd.ZstdDecompressor()\n",
    "%timeit df['compressed_text'].transform(lambda x: dctx.decompress(x))"
   ]
  },
  {
   "cell_type": "code",
   "execution_count": 12,
   "metadata": {},
   "outputs": [
    {
     "data": {
      "text/plain": [
       "1.6383462162080873"
      ]
     },
     "execution_count": 12,
     "metadata": {},
     "output_type": "execute_result"
    }
   ],
   "source": [
    "# df.memory_usage(deep=True)\n",
    "_, input_memory_usage, output_memory_usage = df.memory_usage(deep=True).values\n",
    "input_memory_usage/output_memory_usage"
   ]
  },
  {
   "cell_type": "code",
   "execution_count": 19,
   "metadata": {},
   "outputs": [
    {
     "data": {
      "text/plain": [
       "b'x\\xdamT\\xcbn\\xdc0\\x0c\\xfc\\x15\\xe6\\x94\\xcbf/A? \\x87\\x16\\x08\\xd0G\\x0e\\xfd\\x01Z\\xa6lee\\xd1\\x90\\xa8\\xddl\\xfe\\xa8\\xdf\\xd0c~\\xac#y\\xb3m\\x80\\xdel\\x93\\x1a\\x0egF~0\\x92\\xa3\\xe43Y\\xcd\\x89\\x9e8;\\n\\x858\\x11/\\xfc\\x1a\\xd2D\\xf2\\xb2J\\x0e\\x92\\x9c\\xec\\xe9s\\xef<q\\xb0b\\xec}\\xeb\\x9c$\\xd5\\x90$\\x9ei\\xd5\\x18Lpt$S=\\x90\\xe3,\\xa4\\x9e\\xb4f\\x9a\\xb2\\xd6uO_\\xc5nqD\\xa9X\\xe60\\xcd\\x86N\\xb2Y\\xc8\\xab\\x8e{z0\\xf2!\\x17\\xa3\\x93\\xa0\\xc9ze\\x15k\\xa8kd\\x13\\xae\\x1d\\x9d\\xcbA0c\\xe6\\xad\\xa3\\xcc9,+\\rx\\xaa\\xc3\\x80\\x8a\\xd7L\\x8b\\xb6\\xe1\\xe7b\\x92\\x0bJ\\x8ek\\x91\\xced\\xe5lm\\x85r\\xadzNl\\xc1\\x95=\\xfdlh\\xc2\\x8d\\x0c\\x88\\x9d$\\xd3\\xcc#\\xdd\\xd3\\x18\\xbc\\x97,\\xc9\\xa8\\xac\\xe2\\x82\\x94\\xbe\\xd6\\xe5\\xb8\\xa6\\xceb\\xe6\\xe8AEb\\xdc\\x91\\x8b\\xbc\\x94\\x1d1E\\x1dZ\\xd3\\x8eJ\\xd2\\x13\\xb9\\xcc\\x03E\\x99z\\xa98\\x8eQ\\xd7\\xff\\x1d\\x7f\\xae\\xcb\\xa0\\x14+\\x96\\xeaG\\x16a\\xdb\\xf5\\xcd\\x8b.\\x9d!\\xf08D0~lzb\\xfb,\\xa5\\x84cs\\xa1\\x81\\r\\x02\\r?.\\x12\\x16\\x9eB\\xe2!\\xbe\\xbbhs3\\xb7\\xe9 /\\x96eig=`\\xe6\\x1b\\xfa\\x8e/T\\xd7^lp\\xd8f\\x007N\\x87==I\\xf6\\xe2\\x8c\\x06\\xf8W\\xa0uc\\xe5\\xb1\\t\\x14\\xf1\\xdblMB&i\\x94\\xbc\\tz\\xd1\\x80r(j\\xa6w\\x1b\\xe4\\xe5c\\x1b\\xe1\\x10\\x16 \\xad\\x1b2h\\xf4\\x045+\\xb8:\\xd9Xp\\xb1\\xf3\\x06\\xa7\\t\\x1d\\x87\\xa4\\xee\\x80\\x1e\\xe4\\xef4k\\x94\\x7fBze}\\x99\\xd7\\xdfKla\\xc3\\xc1\\x8b\\xda5]\\x86\\x960B\\x90o|Fz\\xee\\xef>\\xd1\\x12R5\\xf8\\xdb\\xe3\\xf3\\xce#\\x87\\x06\\xab5\\x8e\\xe9\\xd6\\xe0\\xd4\\xb1),\\x892\\x9f\\xf6\\xd4B\\xdb\\x89\\xac\\x1a\\x12lBt\\xa17\\xc8+\\xf9\\n]\\x86jp1\\xc0\\xb7!\\xbf\\xfd\\x8eo\\xbf6\\x86\\x17\"\\x0bn\\x0fr?qH\\xb0l9\\x03\\xd8\\x9a.\\xcfu\\x9c\\xe0I\\x03|\\x04\\x1e\\x92\\xc7\\xb3\\xf0&\\xb7fh\\x0b\\xee\\xc1\\x9a\\xff\\xd7}\\xbb\\xe9#\\xe2Y\\x02\\xc0\\xdb\\x9dFyc\\x9b\\xda[\\xcf2\\xbf\\x0f\\xf8Hi\\xb7\\xe9]\\'\\xde,\\xf9\\xeb\\x05.1#\\x1b\\xe1U\\xc6\\xad\\xc9\\xb5\\xac`;o\\x9dL\\xac/5\\x07\\xad\\xa5\\xbf9M\\x86UZ.\\x08|\\xa3\\xcdg\\x1a\\xb5\\xf4\\xdf\\xc0\\x91S\\x88\\xb1\\x11\\xc0\\xcf\\xc5Gq\\x87\\xab\\nC3j\\xd9\\xd3\\x8f\\xd4;\\xaf\\xdb|\\xc1\\x9ds3!\\x95\\xc65s2d\\x1d\\xff\\xa8\\x198\\xe7\\x9b?\\x94\\x19\\xb4\\xcd'"
      ]
     },
     "execution_count": 19,
     "metadata": {},
     "output_type": "execute_result"
    }
   ],
   "source": [
    "df2 = reviews.sample(1000)\n",
    "# from smaz import compress, decompress\n",
    "import zlib\n",
    "x = df2.iloc[0]['text']\n",
    "zlib.compress(x.encode(), level=9)"
   ]
  },
  {
   "cell_type": "code",
   "execution_count": 20,
   "metadata": {},
   "outputs": [
    {
     "name": "stdout",
     "output_type": "stream",
     "text": [
      "17.5 ms ± 223 µs per loop (mean ± std. dev. of 7 runs, 100 loops each)\n"
     ]
    }
   ],
   "source": [
    "%timeit df2['compressed_text'] = df2['text'].transform(lambda x: zlib.compress(x.encode(), level=9))"
   ]
  },
  {
   "cell_type": "code",
   "execution_count": 21,
   "metadata": {},
   "outputs": [
    {
     "name": "stdout",
     "output_type": "stream",
     "text": [
      "4.88 ms ± 85.1 µs per loop (mean ± std. dev. of 7 runs, 100 loops each)\n"
     ]
    }
   ],
   "source": [
    "%timeit df2['compressed_text'].transform(lambda x: zlib.decompress(x))"
   ]
  },
  {
   "cell_type": "code",
   "execution_count": 22,
   "metadata": {},
   "outputs": [
    {
     "data": {
      "text/plain": [
       "1.6565008631068947"
      ]
     },
     "execution_count": 22,
     "metadata": {},
     "output_type": "execute_result"
    }
   ],
   "source": [
    "# df.memory_usage(deep=True)\n",
    "_, input_memory_usage, output_memory_usage = df2.memory_usage(deep=True).values\n",
    "input_memory_usage/output_memory_usage"
   ]
  }
 ],
 "metadata": {
  "kernelspec": {
   "display_name": "Python 3",
   "language": "python",
   "name": "python3"
  },
  "language_info": {
   "codemirror_mode": {
    "name": "ipython",
    "version": 3
   },
   "file_extension": ".py",
   "mimetype": "text/x-python",
   "name": "python",
   "nbconvert_exporter": "python",
   "pygments_lexer": "ipython3",
   "version": "3.7.6"
  }
 },
 "nbformat": 4,
 "nbformat_minor": 4
}
