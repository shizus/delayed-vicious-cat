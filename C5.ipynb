{
 "cells": [
  {
   "cell_type": "markdown",
   "metadata": {},
   "source": [
    "# C5. Comprima todos los textos de las reviews obteniendo un ratio de compresión mejor que 2.\n",
    "\n",
    "    ¿De cuanto es el ratio de compresión?\n",
    "    ¿Cuánto tarda en comprimir y descomprimir (por separado)? (use el magic %%timeit)\n",
    "    ¿Cuánto ocupa cada carácter en promedio una vez comprimido?\n",
    "    Si tomamos la entropía base dos para los caracteres ¿cuánto da? ¿cuantos bytes por caracter son esos?\n",
    "    Si utilizaramos un compresor aritmético por caracter, aproximadamente ¿cuál sería el ratio de compresión en el caso más optimista?\n",
    "    ¿Cúal algoritmo de compresión de los dos sería mejor?\n",
    "\n"
   ]
  },
  {
   "cell_type": "code",
   "execution_count": 25,
   "metadata": {},
   "outputs": [],
   "source": [
    "import pandas as pd\n",
    "import numpy as np\n",
    "\n",
    "reviews = pd.read_csv('Dataset/review.csv', usecols=['text'])"
   ]
  },
  {
   "cell_type": "code",
   "execution_count": 26,
   "metadata": {},
   "outputs": [
    {
     "name": "stdout",
     "output_type": "stream",
     "text": [
      "<class 'pandas.core.frame.DataFrame'>\n",
      "RangeIndex: 3838105 entries, 0 to 3838104\n",
      "Data columns (total 1 columns):\n",
      " #   Column  Dtype \n",
      "---  ------  ----- \n",
      " 0   text    object\n",
      "dtypes: object(1)\n",
      "memory usage: 29.3+ MB\n"
     ]
    }
   ],
   "source": [
    "reviews.info()"
   ]
  },
  {
   "cell_type": "code",
   "execution_count": 27,
   "metadata": {},
   "outputs": [
    {
     "data": {
      "text/html": [
       "<div>\n",
       "<style scoped>\n",
       "    .dataframe tbody tr th:only-of-type {\n",
       "        vertical-align: middle;\n",
       "    }\n",
       "\n",
       "    .dataframe tbody tr th {\n",
       "        vertical-align: top;\n",
       "    }\n",
       "\n",
       "    .dataframe thead th {\n",
       "        text-align: right;\n",
       "    }\n",
       "</style>\n",
       "<table border=\"1\" class=\"dataframe\">\n",
       "  <thead>\n",
       "    <tr style=\"text-align: right;\">\n",
       "      <th></th>\n",
       "      <th>text</th>\n",
       "    </tr>\n",
       "  </thead>\n",
       "  <tbody>\n",
       "    <tr>\n",
       "      <th>0</th>\n",
       "      <td>If you decide to eat here, just be aware it is...</td>\n",
       "    </tr>\n",
       "    <tr>\n",
       "      <th>1</th>\n",
       "      <td>Cute interior and owner (?) gave us tour of up...</td>\n",
       "    </tr>\n",
       "    <tr>\n",
       "      <th>2</th>\n",
       "      <td>I was really between 3 and 4 stars for this on...</td>\n",
       "    </tr>\n",
       "    <tr>\n",
       "      <th>3</th>\n",
       "      <td>First time there and it was excellent!!! It fe...</td>\n",
       "    </tr>\n",
       "    <tr>\n",
       "      <th>4</th>\n",
       "      <td>Great burgers,fries and salad!  Burgers have a...</td>\n",
       "    </tr>\n",
       "    <tr>\n",
       "      <th>...</th>\n",
       "      <td>...</td>\n",
       "    </tr>\n",
       "    <tr>\n",
       "      <th>3838100</th>\n",
       "      <td>We redesigned my moms dress and mad it complet...</td>\n",
       "    </tr>\n",
       "    <tr>\n",
       "      <th>3838101</th>\n",
       "      <td>This spot offers a great, affordable east week...</td>\n",
       "    </tr>\n",
       "    <tr>\n",
       "      <th>3838102</th>\n",
       "      <td>This Home Depot won me over when I needed to g...</td>\n",
       "    </tr>\n",
       "    <tr>\n",
       "      <th>3838103</th>\n",
       "      <td>For when I'm feeling like ignoring my calorie-...</td>\n",
       "    </tr>\n",
       "    <tr>\n",
       "      <th>3838104</th>\n",
       "      <td>Located in the 'Walking District' in Nashville...</td>\n",
       "    </tr>\n",
       "  </tbody>\n",
       "</table>\n",
       "<p>3838105 rows × 1 columns</p>\n",
       "</div>"
      ],
      "text/plain": [
       "                                                      text\n",
       "0        If you decide to eat here, just be aware it is...\n",
       "1        Cute interior and owner (?) gave us tour of up...\n",
       "2        I was really between 3 and 4 stars for this on...\n",
       "3        First time there and it was excellent!!! It fe...\n",
       "4        Great burgers,fries and salad!  Burgers have a...\n",
       "...                                                    ...\n",
       "3838100  We redesigned my moms dress and mad it complet...\n",
       "3838101  This spot offers a great, affordable east week...\n",
       "3838102  This Home Depot won me over when I needed to g...\n",
       "3838103  For when I'm feeling like ignoring my calorie-...\n",
       "3838104  Located in the 'Walking District' in Nashville...\n",
       "\n",
       "[3838105 rows x 1 columns]"
      ]
     },
     "execution_count": 27,
     "metadata": {},
     "output_type": "execute_result"
    }
   ],
   "source": [
    "df = reviews\n",
    "df"
   ]
  },
  {
   "cell_type": "code",
   "execution_count": 28,
   "metadata": {},
   "outputs": [],
   "source": [
    "reviews_text = df['text'].str.cat(sep='. ', na_rep=' ')"
   ]
  },
  {
   "cell_type": "code",
   "execution_count": 29,
   "metadata": {},
   "outputs": [
    {
     "data": {
      "text/plain": [
       "2022941902"
      ]
     },
     "execution_count": 29,
     "metadata": {},
     "output_type": "execute_result"
    }
   ],
   "source": [
    "len(reviews_text)"
   ]
  },
  {
   "cell_type": "code",
   "execution_count": 30,
   "metadata": {},
   "outputs": [],
   "source": [
    "import zstandard as zstd\n",
    "cctx = zstd.ZstdCompressor()\n",
    "compressed_text = cctx.compress(reviews_text.encode())"
   ]
  },
  {
   "cell_type": "code",
   "execution_count": 31,
   "metadata": {},
   "outputs": [],
   "source": [
    "dctx = zstd.ZstdDecompressor()\n",
    "decompressed_text = dctx.decompress(compressed_text)"
   ]
  },
  {
   "cell_type": "code",
   "execution_count": 32,
   "metadata": {},
   "outputs": [
    {
     "data": {
      "text/plain": [
       "5.468967505794416"
      ]
     },
     "execution_count": 32,
     "metadata": {},
     "output_type": "execute_result"
    }
   ],
   "source": [
    "# df.memory_usage(deep=True)\n",
    "from sys import getsizeof\n",
    "input_memory_usage = getsizeof(reviews_text)\n",
    "output_memory_usage = getsizeof(compressed_text)\n",
    "input_memory_usage/output_memory_usage"
   ]
  },
  {
   "cell_type": "markdown",
   "metadata": {},
   "source": [
    "# 5. Comprima todos los textos de las reviews obteniendo un ratio de compresión mejor que 2.\n",
    "\n",
    "## ¿De cuanto es el ratio de compresión?\n",
    "    \n",
    "   "
   ]
  },
  {
   "cell_type": "code",
   "execution_count": 33,
   "metadata": {},
   "outputs": [
    {
     "name": "stdout",
     "output_type": "stream",
     "text": [
      "5.468967505794416\n"
     ]
    }
   ],
   "source": [
    "print(input_memory_usage/output_memory_usage)"
   ]
  },
  {
   "cell_type": "markdown",
   "metadata": {},
   "source": [
    "\n",
    "    \n",
    "## ¿Cuánto tarda en comprimir y descomprimir (por separado)? (use el magic %%timeit)\n",
    "    \n",
    "   "
   ]
  },
  {
   "cell_type": "code",
   "execution_count": 34,
   "metadata": {},
   "outputs": [
    {
     "name": "stdout",
     "output_type": "stream",
     "text": [
      "26.7 s ± 357 ms per loop (mean ± std. dev. of 7 runs, 1 loop each)\n"
     ]
    }
   ],
   "source": [
    "%timeit cctx.compress(reviews_text.encode())"
   ]
  },
  {
   "cell_type": "code",
   "execution_count": 35,
   "metadata": {},
   "outputs": [
    {
     "name": "stdout",
     "output_type": "stream",
     "text": [
      "4.78 s ± 46 ms per loop (mean ± std. dev. of 7 runs, 1 loop each)\n"
     ]
    }
   ],
   "source": [
    "%timeit dctx.decompress(compressed_text)"
   ]
  },
  {
   "cell_type": "markdown",
   "metadata": {},
   "source": [
    " \n",
    "## ¿Cuánto ocupa cada carácter en promedio una vez comprimido?\n",
    "  "
   ]
  },
  {
   "cell_type": "code",
   "execution_count": 36,
   "metadata": {},
   "outputs": [
    {
     "name": "stdout",
     "output_type": "stream",
     "text": [
      "2.7034723539946805e-09\n"
     ]
    }
   ],
   "source": [
    "print((input_memory_usage/output_memory_usage) / len(reviews_text))"
   ]
  },
  {
   "cell_type": "markdown",
   "metadata": {},
   "source": [
    "## Si tomamos la entropía base dos para los caracteres ¿cuánto da? ¿cuantos bytes por caracter son esos?\n",
    "\n",
    "Suponiendo que tengo 256 caracteres ascii y que todos son equiprobables (un supuesto muy fuerte). Podemos calcular:\n",
    "\n",
    "![Entropia Shannon](entropia-shannon.png)\n",
    "\n",
    "donde i son los 256 caracteres ascii y P_i es 1/256 porque lo asumo equiprobable."
   ]
  },
  {
   "cell_type": "code",
   "execution_count": 39,
   "metadata": {},
   "outputs": [
    {
     "name": "stdout",
     "output_type": "stream",
     "text": [
      "8.0\n"
     ]
    }
   ],
   "source": [
    "import math\n",
    "\n",
    "h = -( (1/256) * math.log2(1/256) * 256 )\n",
    "print(h)"
   ]
  },
  {
   "cell_type": "markdown",
   "metadata": {},
   "source": [
    "8 es la cantidad de bits por caracter. Eso significa que es 1 byte por caracter."
   ]
  },
  {
   "cell_type": "markdown",
   "metadata": {},
   "source": [
    "  \n",
    "## Si utilizaramos un compresor aritmético por caracter, aproximadamente ¿cuál sería el ratio de compresión en el caso más optimista?  \n",
    "    \n",
    "Los compresores aritméticos en el caso más optimista se acercan a la longitud ideal que es -log_2 (P_i)"
   ]
  },
  {
   "cell_type": "code",
   "execution_count": 41,
   "metadata": {},
   "outputs": [
    {
     "data": {
      "text/plain": [
       "8.0"
      ]
     },
     "execution_count": 41,
     "metadata": {},
     "output_type": "execute_result"
    }
   ],
   "source": [
    "- math.log2(1/256)"
   ]
  },
  {
   "cell_type": "markdown",
   "metadata": {},
   "source": [
    "## ¿Cúal algoritmo de compresión de los dos sería mejor?\n",
    "\n",
    "Bueno en estos cálculos dio lo mismo por las asunciones que hicimos. Pero conociendo la naturaleza del texto que son reviews donde las palabras tienden a repetirse y ser parecidas entre una review y otra, la compresión aritmética debería dar mejor."
   ]
  }
 ],
 "metadata": {
  "kernelspec": {
   "display_name": "Python 3",
   "language": "python",
   "name": "python3"
  },
  "language_info": {
   "codemirror_mode": {
    "name": "ipython",
    "version": 3
   },
   "file_extension": ".py",
   "mimetype": "text/x-python",
   "name": "python",
   "nbconvert_exporter": "python",
   "pygments_lexer": "ipython3",
   "version": "3.7.6"
  }
 },
 "nbformat": 4,
 "nbformat_minor": 4
}
