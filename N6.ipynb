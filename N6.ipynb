{
 "cells": [
  {
   "cell_type": "markdown",
   "metadata": {},
   "source": [
    "# N6. \n",
    "Uno de los mayores problemas de las reviews es que los usuarios tienen distintas escalas en puntaje para las mismas experiencias, entonces las estrellas que suele dejar un usuario no son comparables con las otro. Para normalizar un poco más esto, Yelp quiere que el usuario primero escriba el texto y según qué tan positivo o negativo sea sugerirle la cantidad de estrellas a dejar. vaderSentiment y textblob de python son dos librerías para analizar sentimientos, ambas pueden darnos un score de que tan positivo o negativo es el sentimiento de un texto. Para los textos reviews, cuál de los dos scores de emoción mejor correlaciona con el puntaje que esa review deja?"
   ]
  },
  {
   "cell_type": "code",
   "execution_count": 24,
   "metadata": {},
   "outputs": [],
   "source": [
    "import pandas as pd\n",
    "import numpy as np\n",
    "\n",
    "reviews = pd.read_csv('Dataset/review.csv', usecols=['stars', 'text'])"
   ]
  },
  {
   "cell_type": "code",
   "execution_count": 6,
   "metadata": {},
   "outputs": [
    {
     "data": {
      "text/html": [
       "<div>\n",
       "<style scoped>\n",
       "    .dataframe tbody tr th:only-of-type {\n",
       "        vertical-align: middle;\n",
       "    }\n",
       "\n",
       "    .dataframe tbody tr th {\n",
       "        vertical-align: top;\n",
       "    }\n",
       "\n",
       "    .dataframe thead th {\n",
       "        text-align: right;\n",
       "    }\n",
       "</style>\n",
       "<table border=\"1\" class=\"dataframe\">\n",
       "  <thead>\n",
       "    <tr style=\"text-align: right;\">\n",
       "      <th></th>\n",
       "      <th>stars</th>\n",
       "      <th>text</th>\n",
       "    </tr>\n",
       "  </thead>\n",
       "  <tbody>\n",
       "    <tr>\n",
       "      <th>0</th>\n",
       "      <td>3.0</td>\n",
       "      <td>If you decide to eat here, just be aware it is...</td>\n",
       "    </tr>\n",
       "    <tr>\n",
       "      <th>1</th>\n",
       "      <td>4.0</td>\n",
       "      <td>Cute interior and owner (?) gave us tour of up...</td>\n",
       "    </tr>\n",
       "    <tr>\n",
       "      <th>2</th>\n",
       "      <td>4.0</td>\n",
       "      <td>I was really between 3 and 4 stars for this on...</td>\n",
       "    </tr>\n",
       "    <tr>\n",
       "      <th>3</th>\n",
       "      <td>5.0</td>\n",
       "      <td>First time there and it was excellent!!! It fe...</td>\n",
       "    </tr>\n",
       "    <tr>\n",
       "      <th>4</th>\n",
       "      <td>5.0</td>\n",
       "      <td>Great burgers,fries and salad!  Burgers have a...</td>\n",
       "    </tr>\n",
       "  </tbody>\n",
       "</table>\n",
       "</div>"
      ],
      "text/plain": [
       "   stars                                               text\n",
       "0    3.0  If you decide to eat here, just be aware it is...\n",
       "1    4.0  Cute interior and owner (?) gave us tour of up...\n",
       "2    4.0  I was really between 3 and 4 stars for this on...\n",
       "3    5.0  First time there and it was excellent!!! It fe...\n",
       "4    5.0  Great burgers,fries and salad!  Burgers have a..."
      ]
     },
     "execution_count": 6,
     "metadata": {},
     "output_type": "execute_result"
    }
   ],
   "source": [
    "reviews.head()"
   ]
  },
  {
   "cell_type": "code",
   "execution_count": 26,
   "metadata": {},
   "outputs": [
    {
     "name": "stdout",
     "output_type": "stream",
     "text": [
      "<class 'pandas.core.frame.DataFrame'>\n",
      "RangeIndex: 3838105 entries, 0 to 3838104\n",
      "Data columns (total 2 columns):\n",
      " #   Column  Dtype  \n",
      "---  ------  -----  \n",
      " 0   stars   float64\n",
      " 1   text    object \n",
      "dtypes: float64(1), object(1)\n",
      "memory usage: 58.6+ MB\n"
     ]
    }
   ],
   "source": [
    "reviews.info()"
   ]
  },
  {
   "cell_type": "code",
   "execution_count": 7,
   "metadata": {},
   "outputs": [],
   "source": [
    "from vaderSentiment.vaderSentiment import SentimentIntensityAnalyzer"
   ]
  },
  {
   "cell_type": "code",
   "execution_count": 11,
   "metadata": {},
   "outputs": [],
   "source": [
    "analyzer = SentimentIntensityAnalyzer()\n",
    "\n",
    "# reviews['vaderSentiment_compound'] = reviews['text'].transform(lambda x: analyzer.polarity_scores(x)['compound'])\n",
    "vaderSentiment_compound = reviews.head()['text'].transform(lambda x: analyzer.polarity_scores(x)['compound'])\n",
    "vaderSentiment_compound"
   ]
  },
  {
   "cell_type": "code",
   "execution_count": 22,
   "metadata": {},
   "outputs": [
    {
     "data": {
      "text/plain": [
       "0    0.085278\n",
       "1    0.400969\n",
       "2    0.254333\n",
       "3    0.438737\n",
       "4    0.315000\n",
       "Name: text, dtype: float64"
      ]
     },
     "execution_count": 22,
     "metadata": {},
     "output_type": "execute_result"
    }
   ],
   "source": [
    "from textblob import TextBlob\n",
    "# reviews['TextBlob'] = reviews['text'].transform(lambda x: TextBlob(x).sentiment)\n",
    "textblobdata = reviews.head()['text'].transform(lambda x: TextBlob(x).sentiment.polarity)\n",
    "textblobdata"
   ]
  },
  {
   "cell_type": "code",
   "execution_count": 20,
   "metadata": {},
   "outputs": [
    {
     "data": {
      "text/plain": [
       "0    0.08527777777777777-0.8597\n",
       "1    0.40096938775510205-0.9815\n",
       "2    0.25433333333333336-0.9726\n",
       "3     0.43873697916666665-0.941\n",
       "4                  0.315-0.8655\n",
       "Name: text, dtype: object"
      ]
     },
     "execution_count": 20,
     "metadata": {},
     "output_type": "execute_result"
    }
   ],
   "source": [
    "textblobdata = reviews.head()['text'].transform(lambda x: f\"{TextBlob(x).sentiment.polarity}-{analyzer.polarity_scores(x)['compound']}\")\n",
    "textblobdata"
   ]
  },
  {
   "cell_type": "code",
   "execution_count": 44,
   "metadata": {},
   "outputs": [],
   "source": [
    "df = reviews.sample(10000)  # Para saber cual es el mejor tomo una muestra, podria tomar todos pero el transform se haria eterno"
   ]
  },
  {
   "cell_type": "code",
   "execution_count": 45,
   "metadata": {},
   "outputs": [
    {
     "data": {
      "text/html": [
       "<div>\n",
       "<style scoped>\n",
       "    .dataframe tbody tr th:only-of-type {\n",
       "        vertical-align: middle;\n",
       "    }\n",
       "\n",
       "    .dataframe tbody tr th {\n",
       "        vertical-align: top;\n",
       "    }\n",
       "\n",
       "    .dataframe thead th {\n",
       "        text-align: right;\n",
       "    }\n",
       "</style>\n",
       "<table border=\"1\" class=\"dataframe\">\n",
       "  <thead>\n",
       "    <tr style=\"text-align: right;\">\n",
       "      <th></th>\n",
       "      <th>stars</th>\n",
       "      <th>text</th>\n",
       "      <th>analysis</th>\n",
       "    </tr>\n",
       "  </thead>\n",
       "  <tbody>\n",
       "    <tr>\n",
       "      <th>1616423</th>\n",
       "      <td>4.0</td>\n",
       "      <td>More of a 3.5 stars but gave extra for the atm...</td>\n",
       "      <td>0.25999999999999995;0.9103</td>\n",
       "    </tr>\n",
       "    <tr>\n",
       "      <th>1329564</th>\n",
       "      <td>5.0</td>\n",
       "      <td>If you ask me what my favorite food is, i'll t...</td>\n",
       "      <td>0.21132154882154883;0.9545</td>\n",
       "    </tr>\n",
       "    <tr>\n",
       "      <th>1916881</th>\n",
       "      <td>5.0</td>\n",
       "      <td>Worth the drive from anywhere in Nashville. Aw...</td>\n",
       "      <td>0.5333333333333334;0.9349</td>\n",
       "    </tr>\n",
       "    <tr>\n",
       "      <th>1315035</th>\n",
       "      <td>1.0</td>\n",
       "      <td>Went here a few years ago to have my exhaust f...</td>\n",
       "      <td>0.08452380952380953;-0.8807</td>\n",
       "    </tr>\n",
       "    <tr>\n",
       "      <th>1181505</th>\n",
       "      <td>1.0</td>\n",
       "      <td>Really good idea conceptually and awesome atmo...</td>\n",
       "      <td>0.11969696969696969;-0.7229</td>\n",
       "    </tr>\n",
       "  </tbody>\n",
       "</table>\n",
       "</div>"
      ],
      "text/plain": [
       "         stars                                               text  \\\n",
       "1616423    4.0  More of a 3.5 stars but gave extra for the atm...   \n",
       "1329564    5.0  If you ask me what my favorite food is, i'll t...   \n",
       "1916881    5.0  Worth the drive from anywhere in Nashville. Aw...   \n",
       "1315035    1.0  Went here a few years ago to have my exhaust f...   \n",
       "1181505    1.0  Really good idea conceptually and awesome atmo...   \n",
       "\n",
       "                            analysis  \n",
       "1616423   0.25999999999999995;0.9103  \n",
       "1329564   0.21132154882154883;0.9545  \n",
       "1916881    0.5333333333333334;0.9349  \n",
       "1315035  0.08452380952380953;-0.8807  \n",
       "1181505  0.11969696969696969;-0.7229  "
      ]
     },
     "execution_count": 45,
     "metadata": {},
     "output_type": "execute_result"
    }
   ],
   "source": [
    "# hago ambos al mismo tiempo para no tener que recorrer dos veces el set de datos\n",
    "df['analysis'] = df['text'].transform(lambda x: f\"{TextBlob(x).sentiment.polarity};{analyzer.polarity_scores(x)['compound']}\")\n",
    "df.head()"
   ]
  },
  {
   "cell_type": "code",
   "execution_count": 46,
   "metadata": {},
   "outputs": [],
   "source": [
    "df[['TextBlob', 'vaderSentiment']] = df['analysis'].str.split(';', 1, expand=True)"
   ]
  },
  {
   "cell_type": "code",
   "execution_count": 47,
   "metadata": {},
   "outputs": [
    {
     "data": {
      "text/html": [
       "<div>\n",
       "<style scoped>\n",
       "    .dataframe tbody tr th:only-of-type {\n",
       "        vertical-align: middle;\n",
       "    }\n",
       "\n",
       "    .dataframe tbody tr th {\n",
       "        vertical-align: top;\n",
       "    }\n",
       "\n",
       "    .dataframe thead th {\n",
       "        text-align: right;\n",
       "    }\n",
       "</style>\n",
       "<table border=\"1\" class=\"dataframe\">\n",
       "  <thead>\n",
       "    <tr style=\"text-align: right;\">\n",
       "      <th></th>\n",
       "      <th>stars</th>\n",
       "      <th>text</th>\n",
       "      <th>analysis</th>\n",
       "      <th>TextBlob</th>\n",
       "      <th>vaderSentiment</th>\n",
       "    </tr>\n",
       "  </thead>\n",
       "  <tbody>\n",
       "    <tr>\n",
       "      <th>1616423</th>\n",
       "      <td>4.0</td>\n",
       "      <td>More of a 3.5 stars but gave extra for the atm...</td>\n",
       "      <td>0.25999999999999995;0.9103</td>\n",
       "      <td>0.25999999999999995</td>\n",
       "      <td>0.9103</td>\n",
       "    </tr>\n",
       "    <tr>\n",
       "      <th>1329564</th>\n",
       "      <td>5.0</td>\n",
       "      <td>If you ask me what my favorite food is, i'll t...</td>\n",
       "      <td>0.21132154882154883;0.9545</td>\n",
       "      <td>0.21132154882154883</td>\n",
       "      <td>0.9545</td>\n",
       "    </tr>\n",
       "    <tr>\n",
       "      <th>1916881</th>\n",
       "      <td>5.0</td>\n",
       "      <td>Worth the drive from anywhere in Nashville. Aw...</td>\n",
       "      <td>0.5333333333333334;0.9349</td>\n",
       "      <td>0.5333333333333334</td>\n",
       "      <td>0.9349</td>\n",
       "    </tr>\n",
       "    <tr>\n",
       "      <th>1315035</th>\n",
       "      <td>1.0</td>\n",
       "      <td>Went here a few years ago to have my exhaust f...</td>\n",
       "      <td>0.08452380952380953;-0.8807</td>\n",
       "      <td>0.08452380952380953</td>\n",
       "      <td>-0.8807</td>\n",
       "    </tr>\n",
       "    <tr>\n",
       "      <th>1181505</th>\n",
       "      <td>1.0</td>\n",
       "      <td>Really good idea conceptually and awesome atmo...</td>\n",
       "      <td>0.11969696969696969;-0.7229</td>\n",
       "      <td>0.11969696969696969</td>\n",
       "      <td>-0.7229</td>\n",
       "    </tr>\n",
       "  </tbody>\n",
       "</table>\n",
       "</div>"
      ],
      "text/plain": [
       "         stars                                               text  \\\n",
       "1616423    4.0  More of a 3.5 stars but gave extra for the atm...   \n",
       "1329564    5.0  If you ask me what my favorite food is, i'll t...   \n",
       "1916881    5.0  Worth the drive from anywhere in Nashville. Aw...   \n",
       "1315035    1.0  Went here a few years ago to have my exhaust f...   \n",
       "1181505    1.0  Really good idea conceptually and awesome atmo...   \n",
       "\n",
       "                            analysis             TextBlob vaderSentiment  \n",
       "1616423   0.25999999999999995;0.9103  0.25999999999999995         0.9103  \n",
       "1329564   0.21132154882154883;0.9545  0.21132154882154883         0.9545  \n",
       "1916881    0.5333333333333334;0.9349   0.5333333333333334         0.9349  \n",
       "1315035  0.08452380952380953;-0.8807  0.08452380952380953        -0.8807  \n",
       "1181505  0.11969696969696969;-0.7229  0.11969696969696969        -0.7229  "
      ]
     },
     "execution_count": 47,
     "metadata": {},
     "output_type": "execute_result"
    }
   ],
   "source": [
    "df.head()"
   ]
  },
  {
   "cell_type": "code",
   "execution_count": 48,
   "metadata": {},
   "outputs": [],
   "source": [
    "df['TextBlob'] = pd.to_numeric(df['TextBlob'], downcast=\"float\")\n",
    "df['vaderSentiment'] = pd.to_numeric(df['vaderSentiment'], downcast=\"float\")"
   ]
  },
  {
   "cell_type": "code",
   "execution_count": 49,
   "metadata": {},
   "outputs": [],
   "source": [
    "del(df['analysis'])\n",
    "del(df['text'])"
   ]
  },
  {
   "cell_type": "code",
   "execution_count": 50,
   "metadata": {},
   "outputs": [
    {
     "data": {
      "text/html": [
       "<div>\n",
       "<style scoped>\n",
       "    .dataframe tbody tr th:only-of-type {\n",
       "        vertical-align: middle;\n",
       "    }\n",
       "\n",
       "    .dataframe tbody tr th {\n",
       "        vertical-align: top;\n",
       "    }\n",
       "\n",
       "    .dataframe thead th {\n",
       "        text-align: right;\n",
       "    }\n",
       "</style>\n",
       "<table border=\"1\" class=\"dataframe\">\n",
       "  <thead>\n",
       "    <tr style=\"text-align: right;\">\n",
       "      <th></th>\n",
       "      <th>stars</th>\n",
       "      <th>TextBlob</th>\n",
       "      <th>vaderSentiment</th>\n",
       "    </tr>\n",
       "  </thead>\n",
       "  <tbody>\n",
       "    <tr>\n",
       "      <th>stars</th>\n",
       "      <td>1.000000</td>\n",
       "      <td>0.663929</td>\n",
       "      <td>0.700489</td>\n",
       "    </tr>\n",
       "    <tr>\n",
       "      <th>TextBlob</th>\n",
       "      <td>0.663929</td>\n",
       "      <td>1.000000</td>\n",
       "      <td>0.645774</td>\n",
       "    </tr>\n",
       "    <tr>\n",
       "      <th>vaderSentiment</th>\n",
       "      <td>0.700489</td>\n",
       "      <td>0.645774</td>\n",
       "      <td>1.000000</td>\n",
       "    </tr>\n",
       "  </tbody>\n",
       "</table>\n",
       "</div>"
      ],
      "text/plain": [
       "                   stars  TextBlob  vaderSentiment\n",
       "stars           1.000000  0.663929        0.700489\n",
       "TextBlob        0.663929  1.000000        0.645774\n",
       "vaderSentiment  0.700489  0.645774        1.000000"
      ]
     },
     "execution_count": 50,
     "metadata": {},
     "output_type": "execute_result"
    }
   ],
   "source": [
    "df.corr()"
   ]
  },
  {
   "cell_type": "code",
   "execution_count": 51,
   "metadata": {},
   "outputs": [
    {
     "data": {
      "image/png": "[encoded data removed]",
      "text/plain": [
       "<Figure size 432x288 with 2 Axes>"
      ]
     },
     "metadata": {},
     "output_type": "display_data"
    }
   ],
   "source": [
    "import seaborn as sns; sns.set_theme()\n",
    "ax = sns.heatmap(df.corr())"
   ]
  },
  {
   "cell_type": "markdown",
   "metadata": {},
   "source": [
    "# Respuesta\n",
    "Según esta muestra la que mejor correlaciona con las estrellas que asignó cada usuario es la librería vaderSentiment."
   ]
  }
 ],
 "metadata": {
  "kernelspec": {
   "display_name": "Python 3",
   "language": "python",
   "name": "python3"
  },
  "language_info": {
   "codemirror_mode": {
    "name": "ipython",
    "version": 3
   },
   "file_extension": ".py",
   "mimetype": "text/x-python",
   "name": "python",
   "nbconvert_exporter": "python",
   "pygments_lexer": "ipython3",
   "version": "3.7.6"
  }
 },
 "nbformat": 4,
 "nbformat_minor": 4
}
