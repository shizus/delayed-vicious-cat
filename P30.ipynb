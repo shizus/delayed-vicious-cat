{
 "cells": [
  {
   "cell_type": "code",
   "execution_count": 88,
   "metadata": {},
   "outputs": [],
   "source": [
    "import pandas as pd\n",
    "import numpy as np"
   ]
  },
  {
   "cell_type": "code",
   "execution_count": 89,
   "metadata": {},
   "outputs": [],
   "source": [
    "users = pd.read_csv('./Dataset/user.csv', usecols=['user_id', 'friends'])"
   ]
  },
  {
   "cell_type": "code",
   "execution_count": 90,
   "metadata": {},
   "outputs": [
    {
     "name": "stdout",
     "output_type": "stream",
     "text": [
      "<class 'pandas.core.frame.DataFrame'>\n",
      "RangeIndex: 1987897 entries, 0 to 1987896\n",
      "Data columns (total 2 columns):\n",
      " #   Column   Dtype \n",
      "---  ------   ----- \n",
      " 0   user_id  object\n",
      " 1   friends  object\n",
      "dtypes: object(2)\n",
      "memory usage: 30.3+ MB\n"
     ]
    }
   ],
   "source": [
    "users.info()"
   ]
  },
  {
   "cell_type": "code",
   "execution_count": 91,
   "metadata": {},
   "outputs": [
    {
     "data": {
      "text/html": [
       "<div>\n",
       "<style scoped>\n",
       "    .dataframe tbody tr th:only-of-type {\n",
       "        vertical-align: middle;\n",
       "    }\n",
       "\n",
       "    .dataframe tbody tr th {\n",
       "        vertical-align: top;\n",
       "    }\n",
       "\n",
       "    .dataframe thead th {\n",
       "        text-align: right;\n",
       "    }\n",
       "</style>\n",
       "<table border=\"1\" class=\"dataframe\">\n",
       "  <thead>\n",
       "    <tr style=\"text-align: right;\">\n",
       "      <th></th>\n",
       "      <th>user_id</th>\n",
       "      <th>friends</th>\n",
       "    </tr>\n",
       "  </thead>\n",
       "  <tbody>\n",
       "    <tr>\n",
       "      <th>0</th>\n",
       "      <td>qVc8ODYU5SZjKXVBgXdI7w</td>\n",
       "      <td>NSCy54eWehBJyZdG2iE84w, pe42u7DcCH2QmI81NX-8qA...</td>\n",
       "    </tr>\n",
       "    <tr>\n",
       "      <th>1</th>\n",
       "      <td>j14WgRoU_-2ZE1aw1dXrJg</td>\n",
       "      <td>ueRPE0CX75ePGMqOFVj6IQ, 52oH4DrRvzzl8wh5UXyU0A...</td>\n",
       "    </tr>\n",
       "    <tr>\n",
       "      <th>2</th>\n",
       "      <td>2WnXYQFK0hXEoTxPtV2zvg</td>\n",
       "      <td>LuO3Bn4f3rlhyHIaNfTlnA, j9B4XdHUhDfTKVecyWQgyA...</td>\n",
       "    </tr>\n",
       "    <tr>\n",
       "      <th>3</th>\n",
       "      <td>SZDeASXq7o05mMNLshsdIA</td>\n",
       "      <td>enx1vVPnfdNUdPho6PH_wg, 4wOcvMLtU6a9Lslggq74Vg...</td>\n",
       "    </tr>\n",
       "    <tr>\n",
       "      <th>4</th>\n",
       "      <td>hA5lMy-EnncsH4JoR-hFGQ</td>\n",
       "      <td>PBK4q9KEEBHhFvSXCUirIw, 3FWPpM7KU1gXeOM_ZbYMbA...</td>\n",
       "    </tr>\n",
       "  </tbody>\n",
       "</table>\n",
       "</div>"
      ],
      "text/plain": [
       "                  user_id                                            friends\n",
       "0  qVc8ODYU5SZjKXVBgXdI7w  NSCy54eWehBJyZdG2iE84w, pe42u7DcCH2QmI81NX-8qA...\n",
       "1  j14WgRoU_-2ZE1aw1dXrJg  ueRPE0CX75ePGMqOFVj6IQ, 52oH4DrRvzzl8wh5UXyU0A...\n",
       "2  2WnXYQFK0hXEoTxPtV2zvg  LuO3Bn4f3rlhyHIaNfTlnA, j9B4XdHUhDfTKVecyWQgyA...\n",
       "3  SZDeASXq7o05mMNLshsdIA  enx1vVPnfdNUdPho6PH_wg, 4wOcvMLtU6a9Lslggq74Vg...\n",
       "4  hA5lMy-EnncsH4JoR-hFGQ  PBK4q9KEEBHhFvSXCUirIw, 3FWPpM7KU1gXeOM_ZbYMbA..."
      ]
     },
     "execution_count": 91,
     "metadata": {},
     "output_type": "execute_result"
    }
   ],
   "source": [
    "users.head()"
   ]
  },
  {
   "cell_type": "code",
   "execution_count": 92,
   "metadata": {},
   "outputs": [
    {
     "data": {
      "text/plain": [
       "14995"
      ]
     },
     "execution_count": 92,
     "metadata": {},
     "output_type": "execute_result"
    }
   ],
   "source": [
    "len(users.iloc[0]['friends'].split(','))"
   ]
  },
  {
   "cell_type": "code",
   "execution_count": 93,
   "metadata": {},
   "outputs": [
    {
     "data": {
      "text/plain": [
       "1987897"
      ]
     },
     "execution_count": 93,
     "metadata": {},
     "output_type": "execute_result"
    }
   ],
   "source": [
    "len(users)"
   ]
  },
  {
   "cell_type": "markdown",
   "metadata": {},
   "source": [
    "# P30. Según la paradoja de la amistad, en redes sociales, tus amigos suelen tener en promedio más amigos que vos :(. Calcule el promedio de amigos que tiene cada usuario y el promedio de amigos que tienen los amigos de cada usuario."
   ]
  },
  {
   "cell_type": "code",
   "execution_count": 94,
   "metadata": {},
   "outputs": [
    {
     "data": {
      "text/plain": [
       "1987897"
      ]
     },
     "execution_count": 94,
     "metadata": {},
     "output_type": "execute_result"
    }
   ],
   "source": [
    "len(users['user_id'].unique()) # hay usuarios repetidos?"
   ]
  },
  {
   "cell_type": "markdown",
   "metadata": {},
   "source": [
    "No hay usuarios repetidos en users. Entonces \"el promedio de amigos que tiene cada usuario\" es la totalidad de amigos del usuario."
   ]
  },
  {
   "cell_type": "code",
   "execution_count": 95,
   "metadata": {},
   "outputs": [],
   "source": [
    "friends_count = users['friends'].str.count(',')"
   ]
  },
  {
   "cell_type": "code",
   "execution_count": 96,
   "metadata": {},
   "outputs": [
    {
     "data": {
      "text/html": [
       "<div>\n",
       "<style scoped>\n",
       "    .dataframe tbody tr th:only-of-type {\n",
       "        vertical-align: middle;\n",
       "    }\n",
       "\n",
       "    .dataframe tbody tr th {\n",
       "        vertical-align: top;\n",
       "    }\n",
       "\n",
       "    .dataframe thead th {\n",
       "        text-align: right;\n",
       "    }\n",
       "</style>\n",
       "<table border=\"1\" class=\"dataframe\">\n",
       "  <thead>\n",
       "    <tr style=\"text-align: right;\">\n",
       "      <th></th>\n",
       "      <th>user_id</th>\n",
       "      <th>friends</th>\n",
       "    </tr>\n",
       "  </thead>\n",
       "  <tbody>\n",
       "    <tr>\n",
       "      <th>46</th>\n",
       "      <td>bNJmIcxc_FRWxftI_vhpbg</td>\n",
       "      <td>-XaJjvMGQNARPz6zDEviaA, idxYND4JfLwijtONahHY6w</td>\n",
       "    </tr>\n",
       "  </tbody>\n",
       "</table>\n",
       "</div>"
      ],
      "text/plain": [
       "                   user_id                                         friends\n",
       "46  bNJmIcxc_FRWxftI_vhpbg  -XaJjvMGQNARPz6zDEviaA, idxYND4JfLwijtONahHY6w"
      ]
     },
     "execution_count": 96,
     "metadata": {},
     "output_type": "execute_result"
    }
   ],
   "source": [
    "users.loc[[46]]"
   ]
  },
  {
   "cell_type": "code",
   "execution_count": 97,
   "metadata": {},
   "outputs": [
    {
     "data": {
      "text/html": [
       "<div>\n",
       "<style scoped>\n",
       "    .dataframe tbody tr th:only-of-type {\n",
       "        vertical-align: middle;\n",
       "    }\n",
       "\n",
       "    .dataframe tbody tr th {\n",
       "        vertical-align: top;\n",
       "    }\n",
       "\n",
       "    .dataframe thead th {\n",
       "        text-align: right;\n",
       "    }\n",
       "</style>\n",
       "<table border=\"1\" class=\"dataframe\">\n",
       "  <thead>\n",
       "    <tr style=\"text-align: right;\">\n",
       "      <th></th>\n",
       "      <th>user_id</th>\n",
       "      <th>friends</th>\n",
       "    </tr>\n",
       "  </thead>\n",
       "  <tbody>\n",
       "    <tr>\n",
       "      <th>1987893</th>\n",
       "      <td>68czcr4BxJyMQ9cJBm6C7Q</td>\n",
       "      <td>None</td>\n",
       "    </tr>\n",
       "  </tbody>\n",
       "</table>\n",
       "</div>"
      ],
      "text/plain": [
       "                        user_id friends\n",
       "1987893  68czcr4BxJyMQ9cJBm6C7Q    None"
      ]
     },
     "execution_count": 97,
     "metadata": {},
     "output_type": "execute_result"
    }
   ],
   "source": [
    "users.loc[[1987893]]"
   ]
  },
  {
   "cell_type": "markdown",
   "metadata": {},
   "source": [
    "Acá vemos que está contando un amigo menos para cada uno, pero sumarle 1 a todos va a agregarle un amigo a los que de verdad, tengan 0, así que lo que voy a hacer es agregarle 1  todos y después a los que tienen NaN en los amigos los voy a volver a 0."
   ]
  },
  {
   "cell_type": "code",
   "execution_count": 98,
   "metadata": {},
   "outputs": [],
   "source": [
    "users['friends_count'] = users['friends'].str.count(',') + 1"
   ]
  },
  {
   "cell_type": "code",
   "execution_count": 99,
   "metadata": {},
   "outputs": [],
   "source": [
    "users.loc[users['friends'].isnull(), ['friends_count']] = 0"
   ]
  },
  {
   "cell_type": "code",
   "execution_count": 100,
   "metadata": {},
   "outputs": [],
   "source": [
    "users.set_index('user_id', inplace=True)"
   ]
  },
  {
   "cell_type": "code",
   "execution_count": 101,
   "metadata": {},
   "outputs": [
    {
     "data": {
      "text/html": [
       "<div>\n",
       "<style scoped>\n",
       "    .dataframe tbody tr th:only-of-type {\n",
       "        vertical-align: middle;\n",
       "    }\n",
       "\n",
       "    .dataframe tbody tr th {\n",
       "        vertical-align: top;\n",
       "    }\n",
       "\n",
       "    .dataframe thead th {\n",
       "        text-align: right;\n",
       "    }\n",
       "</style>\n",
       "<table border=\"1\" class=\"dataframe\">\n",
       "  <thead>\n",
       "    <tr style=\"text-align: right;\">\n",
       "      <th></th>\n",
       "      <th>friends</th>\n",
       "      <th>friends_count</th>\n",
       "    </tr>\n",
       "    <tr>\n",
       "      <th>user_id</th>\n",
       "      <th></th>\n",
       "      <th></th>\n",
       "    </tr>\n",
       "  </thead>\n",
       "  <tbody>\n",
       "    <tr>\n",
       "      <th>qVc8ODYU5SZjKXVBgXdI7w</th>\n",
       "      <td>NSCy54eWehBJyZdG2iE84w, pe42u7DcCH2QmI81NX-8qA...</td>\n",
       "      <td>14995</td>\n",
       "    </tr>\n",
       "    <tr>\n",
       "      <th>j14WgRoU_-2ZE1aw1dXrJg</th>\n",
       "      <td>ueRPE0CX75ePGMqOFVj6IQ, 52oH4DrRvzzl8wh5UXyU0A...</td>\n",
       "      <td>4646</td>\n",
       "    </tr>\n",
       "    <tr>\n",
       "      <th>2WnXYQFK0hXEoTxPtV2zvg</th>\n",
       "      <td>LuO3Bn4f3rlhyHIaNfTlnA, j9B4XdHUhDfTKVecyWQgyA...</td>\n",
       "      <td>381</td>\n",
       "    </tr>\n",
       "    <tr>\n",
       "      <th>SZDeASXq7o05mMNLshsdIA</th>\n",
       "      <td>enx1vVPnfdNUdPho6PH_wg, 4wOcvMLtU6a9Lslggq74Vg...</td>\n",
       "      <td>131</td>\n",
       "    </tr>\n",
       "    <tr>\n",
       "      <th>hA5lMy-EnncsH4JoR-hFGQ</th>\n",
       "      <td>PBK4q9KEEBHhFvSXCUirIw, 3FWPpM7KU1gXeOM_ZbYMbA...</td>\n",
       "      <td>27</td>\n",
       "    </tr>\n",
       "  </tbody>\n",
       "</table>\n",
       "</div>"
      ],
      "text/plain": [
       "                                                                  friends  \\\n",
       "user_id                                                                     \n",
       "qVc8ODYU5SZjKXVBgXdI7w  NSCy54eWehBJyZdG2iE84w, pe42u7DcCH2QmI81NX-8qA...   \n",
       "j14WgRoU_-2ZE1aw1dXrJg  ueRPE0CX75ePGMqOFVj6IQ, 52oH4DrRvzzl8wh5UXyU0A...   \n",
       "2WnXYQFK0hXEoTxPtV2zvg  LuO3Bn4f3rlhyHIaNfTlnA, j9B4XdHUhDfTKVecyWQgyA...   \n",
       "SZDeASXq7o05mMNLshsdIA  enx1vVPnfdNUdPho6PH_wg, 4wOcvMLtU6a9Lslggq74Vg...   \n",
       "hA5lMy-EnncsH4JoR-hFGQ  PBK4q9KEEBHhFvSXCUirIw, 3FWPpM7KU1gXeOM_ZbYMbA...   \n",
       "\n",
       "                        friends_count  \n",
       "user_id                                \n",
       "qVc8ODYU5SZjKXVBgXdI7w          14995  \n",
       "j14WgRoU_-2ZE1aw1dXrJg           4646  \n",
       "2WnXYQFK0hXEoTxPtV2zvg            381  \n",
       "SZDeASXq7o05mMNLshsdIA            131  \n",
       "hA5lMy-EnncsH4JoR-hFGQ             27  "
      ]
     },
     "execution_count": 101,
     "metadata": {},
     "output_type": "execute_result"
    }
   ],
   "source": [
    "users.head()"
   ]
  },
  {
   "cell_type": "markdown",
   "metadata": {},
   "source": [
    "Ahora convierto esto a un dictionary cuya key es el user_id para que cada vez que necesite buscar por user_id cada amigo y traer\n",
    "sus datos, no invertir procesamiento en la búsqueda. "
   ]
  },
  {
   "cell_type": "code",
   "execution_count": 102,
   "metadata": {},
   "outputs": [
    {
     "data": {
      "text/plain": [
       "{'friends': 'PBK4q9KEEBHhFvSXCUirIw, 3FWPpM7KU1gXeOM_ZbYMbA, AWpdSLtet45ZfbYxR_QtGw, QTLb-h7-9RYFDGkDX3-dJg, gmb_vgiPYXS_g-2tXevDng, hpw0VmkI1okMheHoE_Zg5A, UN26eUIXD5HSZt-b6DA_qQ, ZPffRCIk8Y0HJFzvhZebbg, hjUxm7j0uqmhD7OtZFZ2sQ, 3B9OpzTdQt2qZCJNcwXB_A, SVmMQFw-eqDMzizruVhypQ, Y04yRCQ12M435p6v2X3uow, W1EVCvCnle1CQEnuvV7xFQ, aBrrtkB4j1eewa_S9nkwBA, tjm3b3Ts8msuGiYRybHx0Q, Z1MFQFgn-O9ADIOr6g-wEQ, tEUxh2rK4M_9r_XBH4S-oQ, FrWXMb2ixxJG49YuhIye4g, 16cK8VltpHEGMNbqpbpXpA, S3CpkNFpx1QUW0Q4xTWhIw, NgMSgZNDXCWnA1UB6ngFxQ, GR-pfj00PXOaqCSRiF4NCA, wQR26Y7QyZY1eXvi989s-g, ccFwJ1oUv5ILhHS6OXac2A, xGbN2D2YUouarZiZG_0GMQ, SM7CpJ3WwcdoAu59jvtLzA, F7JfpRM9Ld2RMvXrL2DWZA',\n",
       " 'friends_count': 27}"
      ]
     },
     "execution_count": 102,
     "metadata": {},
     "output_type": "execute_result"
    }
   ],
   "source": [
    "users_dict = users.to_dict('index')\n",
    "users_dict[list(users_dict.keys())[4]]"
   ]
  },
  {
   "cell_type": "code",
   "execution_count": 103,
   "metadata": {},
   "outputs": [],
   "source": [
    "for user_id in users_dict.keys():\n",
    "    if users_dict[user_id]['friends_count'] == 0:  # Esto es un guard para evitar los que no tienen amigos\n",
    "        users_dict[user_id]['friends_mean'] = 0\n",
    "        continue\n",
    "    \n",
    "    \n",
    "    friends_list = users_dict[user_id].get('friends').split(',')\n",
    "    total_friends = len(friends_list)\n",
    "    \n",
    "        \n",
    "    friends_of_friends = 0\n",
    "    for friend_id in friends_list:\n",
    "        friend_id = friend_id.strip()\n",
    "        friend_dict = users_dict.get(friend_id)\n",
    "        # Puede pasar que un usuario no esté en la base que recibí, si es así, no lo cuento para el promedio de los amigos\n",
    "        if friend_dict is None:\n",
    "            total_friends -= 1\n",
    "            continue\n",
    "        friends_of_friends += friend_dict.get('friends_count')  \n",
    "        \n",
    "    \n",
    "    if total_friends == 0:  # Esto es un guard para marcar a los usuarios de cuyos amigos no tenemos informacion\n",
    "        users_dict[user_id]['friends_mean'] = -1\n",
    "        continue\n",
    "        \n",
    "    users_dict[user_id]['friends_mean'] = friends_of_friends / total_friends"
   ]
  },
  {
   "cell_type": "code",
   "execution_count": 104,
   "metadata": {},
   "outputs": [
    {
     "data": {
      "text/html": [
       "<div>\n",
       "<style scoped>\n",
       "    .dataframe tbody tr th:only-of-type {\n",
       "        vertical-align: middle;\n",
       "    }\n",
       "\n",
       "    .dataframe tbody tr th {\n",
       "        vertical-align: top;\n",
       "    }\n",
       "\n",
       "    .dataframe thead th {\n",
       "        text-align: right;\n",
       "    }\n",
       "</style>\n",
       "<table border=\"1\" class=\"dataframe\">\n",
       "  <thead>\n",
       "    <tr style=\"text-align: right;\">\n",
       "      <th></th>\n",
       "      <th>friends</th>\n",
       "      <th>friends_count</th>\n",
       "      <th>friends_mean</th>\n",
       "    </tr>\n",
       "  </thead>\n",
       "  <tbody>\n",
       "    <tr>\n",
       "      <th>qVc8ODYU5SZjKXVBgXdI7w</th>\n",
       "      <td>NSCy54eWehBJyZdG2iE84w, pe42u7DcCH2QmI81NX-8qA...</td>\n",
       "      <td>14995</td>\n",
       "      <td>298.246959</td>\n",
       "    </tr>\n",
       "    <tr>\n",
       "      <th>j14WgRoU_-2ZE1aw1dXrJg</th>\n",
       "      <td>ueRPE0CX75ePGMqOFVj6IQ, 52oH4DrRvzzl8wh5UXyU0A...</td>\n",
       "      <td>4646</td>\n",
       "      <td>825.783005</td>\n",
       "    </tr>\n",
       "    <tr>\n",
       "      <th>2WnXYQFK0hXEoTxPtV2zvg</th>\n",
       "      <td>LuO3Bn4f3rlhyHIaNfTlnA, j9B4XdHUhDfTKVecyWQgyA...</td>\n",
       "      <td>381</td>\n",
       "      <td>1521.613861</td>\n",
       "    </tr>\n",
       "    <tr>\n",
       "      <th>SZDeASXq7o05mMNLshsdIA</th>\n",
       "      <td>enx1vVPnfdNUdPho6PH_wg, 4wOcvMLtU6a9Lslggq74Vg...</td>\n",
       "      <td>131</td>\n",
       "      <td>1022.690476</td>\n",
       "    </tr>\n",
       "    <tr>\n",
       "      <th>hA5lMy-EnncsH4JoR-hFGQ</th>\n",
       "      <td>PBK4q9KEEBHhFvSXCUirIw, 3FWPpM7KU1gXeOM_ZbYMbA...</td>\n",
       "      <td>27</td>\n",
       "      <td>19.333333</td>\n",
       "    </tr>\n",
       "  </tbody>\n",
       "</table>\n",
       "</div>"
      ],
      "text/plain": [
       "                                                                  friends  \\\n",
       "qVc8ODYU5SZjKXVBgXdI7w  NSCy54eWehBJyZdG2iE84w, pe42u7DcCH2QmI81NX-8qA...   \n",
       "j14WgRoU_-2ZE1aw1dXrJg  ueRPE0CX75ePGMqOFVj6IQ, 52oH4DrRvzzl8wh5UXyU0A...   \n",
       "2WnXYQFK0hXEoTxPtV2zvg  LuO3Bn4f3rlhyHIaNfTlnA, j9B4XdHUhDfTKVecyWQgyA...   \n",
       "SZDeASXq7o05mMNLshsdIA  enx1vVPnfdNUdPho6PH_wg, 4wOcvMLtU6a9Lslggq74Vg...   \n",
       "hA5lMy-EnncsH4JoR-hFGQ  PBK4q9KEEBHhFvSXCUirIw, 3FWPpM7KU1gXeOM_ZbYMbA...   \n",
       "\n",
       "                        friends_count  friends_mean  \n",
       "qVc8ODYU5SZjKXVBgXdI7w          14995    298.246959  \n",
       "j14WgRoU_-2ZE1aw1dXrJg           4646    825.783005  \n",
       "2WnXYQFK0hXEoTxPtV2zvg            381   1521.613861  \n",
       "SZDeASXq7o05mMNLshsdIA            131   1022.690476  \n",
       "hA5lMy-EnncsH4JoR-hFGQ             27     19.333333  "
      ]
     },
     "execution_count": 104,
     "metadata": {},
     "output_type": "execute_result"
    }
   ],
   "source": [
    "users_with_friends_count_mean = pd.DataFrame.from_dict(users_dict, orient='index')\n",
    "users_with_friends_count_mean.head()"
   ]
  },
  {
   "cell_type": "markdown",
   "metadata": {},
   "source": [
    "### Usuarios de cuyos amigos no tenemos información"
   ]
  },
  {
   "cell_type": "code",
   "execution_count": 105,
   "metadata": {},
   "outputs": [
    {
     "data": {
      "text/plain": [
       "1081718"
      ]
     },
     "execution_count": 105,
     "metadata": {},
     "output_type": "execute_result"
    }
   ],
   "source": [
    "len(users_with_friends_count_mean[users_with_friends_count_mean.friends_mean < 0])"
   ]
  },
  {
   "cell_type": "code",
   "execution_count": 106,
   "metadata": {},
   "outputs": [],
   "source": [
    "users_with_friends_count_mean.drop(users_with_friends_count_mean[users_with_friends_count_mean.friends_mean < 0].index, inplace=True)"
   ]
  },
  {
   "cell_type": "code",
   "execution_count": 107,
   "metadata": {},
   "outputs": [
    {
     "data": {
      "text/plain": [
       "906179"
      ]
     },
     "execution_count": 107,
     "metadata": {},
     "output_type": "execute_result"
    }
   ],
   "source": [
    "len(users_with_friends_count_mean)"
   ]
  },
  {
   "cell_type": "code",
   "execution_count": 108,
   "metadata": {},
   "outputs": [
    {
     "data": {
      "text/plain": [
       "friends_count    113.947534\n",
       "friends_mean     522.055978\n",
       "dtype: float64"
      ]
     },
     "execution_count": 108,
     "metadata": {},
     "output_type": "execute_result"
    }
   ],
   "source": [
    "result = users_with_friends_count_mean[['friends_count', 'friends_mean']].mean()\n",
    "result"
   ]
  },
  {
   "cell_type": "markdown",
   "metadata": {},
   "source": [
    "## Respuesta"
   ]
  },
  {
   "cell_type": "code",
   "execution_count": 110,
   "metadata": {},
   "outputs": [
    {
     "name": "stdout",
     "output_type": "stream",
     "text": [
      "En promedio los usuarios tienen 113.95 amigos mientras que sus amigos, en promedio, tienen 522.06 amigos.\n"
     ]
    }
   ],
   "source": [
    "print(f'En promedio los usuarios tienen {result[0]:.2f} amigos mientras que sus amigos, en promedio, tienen {result[1]:.2f} amigos.')"
   ]
  }
 ],
 "metadata": {
  "kernelspec": {
   "display_name": "Python 3",
   "language": "python",
   "name": "python3"
  },
  "language_info": {
   "codemirror_mode": {
    "name": "ipython",
    "version": 3
   },
   "file_extension": ".py",
   "mimetype": "text/x-python",
   "name": "python",
   "nbconvert_exporter": "python",
   "pygments_lexer": "ipython3",
   "version": "3.7.6"
  }
 },
 "nbformat": 4,
 "nbformat_minor": 4
}
